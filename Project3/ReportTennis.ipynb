{
 "cells": [
  {
   "cell_type": "markdown",
   "metadata": {},
   "source": [
    "# Project 3 : Multi-Agent Collaboration for the Tennis Task\n",
    "\n",
    "---\n",
    "Author : Rohan Sarkar \n",
    "\n",
    "## 1. Start the Environment\n",
    "\n",
    "Run the next code cell to install a few packages.  This line will take a few minutes to run!"
   ]
  },
  {
   "cell_type": "code",
   "execution_count": 16,
   "metadata": {},
   "outputs": [],
   "source": [
    "!pip -q install ./python"
   ]
  },
  {
   "cell_type": "markdown",
   "metadata": {},
   "source": [
    "#### Load the necessary libraries and software modules"
   ]
  },
  {
   "cell_type": "code",
   "execution_count": 17,
   "metadata": {},
   "outputs": [],
   "source": [
    "import numpy as np\n",
    "import random\n",
    "import time\n",
    "import torch\n",
    "import torch.nn as nn\n",
    "import torch.nn.functional as F\n",
    "import torch.optim as optim\n",
    "import matplotlib.pyplot as plt\n",
    "%matplotlib inline\n",
    "import copy\n",
    "from collections import namedtuple, deque\n",
    "from unityagents import UnityEnvironment"
   ]
  },
  {
   "cell_type": "markdown",
   "metadata": {},
   "source": [
    "The environment is already saved in the Workspace and can be accessed at the file path provided below. "
   ]
  },
  {
   "cell_type": "code",
   "execution_count": 18,
   "metadata": {},
   "outputs": [
    {
     "name": "stderr",
     "output_type": "stream",
     "text": [
      "INFO:unityagents:\n",
      "'Academy' started successfully!\n",
      "Unity Academy name: Academy\n",
      "        Number of Brains: 1\n",
      "        Number of External Brains : 1\n",
      "        Lesson number : 0\n",
      "        Reset Parameters :\n",
      "\t\t\n",
      "Unity brain name: TennisBrain\n",
      "        Number of Visual Observations (per agent): 0\n",
      "        Vector Observation space type: continuous\n",
      "        Vector Observation space size (per agent): 8\n",
      "        Number of stacked Vector Observation: 3\n",
      "        Vector Action space type: continuous\n",
      "        Vector Action space size (per agent): 2\n",
      "        Vector Action descriptions: , \n"
     ]
    }
   ],
   "source": [
    "env = UnityEnvironment(file_name=\"/data/Tennis_Linux_NoVis/Tennis\")"
   ]
  },
  {
   "cell_type": "markdown",
   "metadata": {},
   "source": [
    "Environments contain **_brains_** which are responsible for deciding the actions of their associated agents. Here we check for the first brain available, and set it as the default brain we will be controlling from Python."
   ]
  },
  {
   "cell_type": "code",
   "execution_count": 19,
   "metadata": {},
   "outputs": [],
   "source": [
    "# get the default brain\n",
    "brain_name = env.brain_names[0]\n",
    "brain = env.brains[brain_name]"
   ]
  },
  {
   "cell_type": "markdown",
   "metadata": {},
   "source": [
    "## 2. Examine the State and Action Spaces\n",
    "\n",
    "Run the code cell below to print some information about the environment."
   ]
  },
  {
   "cell_type": "code",
   "execution_count": 20,
   "metadata": {},
   "outputs": [
    {
     "name": "stdout",
     "output_type": "stream",
     "text": [
      "Number of agents: 2\n",
      "Size of each action: 2\n",
      "There are 2 agents. Each observes a state with length: 24\n",
      "The state for both agents look like: [[ 0.          0.          0.          0.          0.          0.          0.\n",
      "   0.          0.          0.          0.          0.          0.          0.\n",
      "   0.          0.         -6.65278625 -1.5        -0.          0.\n",
      "   6.83172083  6.         -0.          0.        ]\n",
      " [ 0.          0.          0.          0.          0.          0.          0.\n",
      "   0.          0.          0.          0.          0.          0.          0.\n",
      "   0.          0.         -6.4669857  -1.5         0.          0.\n",
      "  -6.83172083  6.          0.          0.        ]]\n",
      "The rewards for both agents look like: [0.0, 0.0]\n"
     ]
    }
   ],
   "source": [
    "# reset the environment\n",
    "env_info = env.reset(train_mode=True)[brain_name]\n",
    "\n",
    "# number of agents \n",
    "num_agents = len(env_info.agents)\n",
    "print('Number of agents:', num_agents)\n",
    "\n",
    "# size of each action\n",
    "action_size = brain.vector_action_space_size\n",
    "print('Size of each action:', action_size)\n",
    "\n",
    "# examine the state space \n",
    "states = env_info.vector_observations\n",
    "state_size = states.shape[1]\n",
    "print('There are {} agents. Each observes a state with length: {}'.format(states.shape[0], state_size))\n",
    "print('The state for both agents look like:', states)\n",
    "\n",
    "rewards = env_info.rewards\n",
    "print('The rewards for both agents look like:', rewards)"
   ]
  },
  {
   "cell_type": "markdown",
   "metadata": {},
   "source": [
    "## 3. Take Random Actions in the Environment\n",
    "\n",
    "In the next code cell, you will learn how to use the Python API to control the agent and receive feedback from the environment.\n",
    "\n",
    "Note that **in this coding environment, you will not be able to watch the agents while they are training**, and you should set `train_mode=True` to restart the environment."
   ]
  },
  {
   "cell_type": "code",
   "execution_count": 21,
   "metadata": {},
   "outputs": [
    {
     "name": "stdout",
     "output_type": "stream",
     "text": [
      "Total score (averaged over agents) this episode: -0.004999999888241291\n",
      "Total score (averaged over agents) this episode: -0.004999999888241291\n",
      "Total score (averaged over agents) this episode: -0.004999999888241291\n",
      "Total score (averaged over agents) this episode: -0.004999999888241291\n",
      "Total score (averaged over agents) this episode: -0.004999999888241291\n"
     ]
    }
   ],
   "source": [
    "for i in range(5):                                         # play game for 5 episodes\n",
    "    env_info = env.reset(train_mode=False)[brain_name]     # reset the environment    \n",
    "    states = env_info.vector_observations                  # get the current state (for each agent)\n",
    "    scores = np.zeros(num_agents)                          # initialize the score (for each agent)\n",
    "    while True:\n",
    "        actions = np.random.randn(num_agents, action_size) # select an action (for each agent)\n",
    "        actions = np.clip(actions, -1, 1)                  # all actions between -1 and 1\n",
    "        env_info = env.step(actions)[brain_name]           # send all actions to tne environment\n",
    "        next_states = env_info.vector_observations         # get next state (for each agent)\n",
    "        rewards = env_info.rewards                         # get reward (for each agent)\n",
    "        dones = env_info.local_done                        # see if episode finished\n",
    "        scores += env_info.rewards                         # update the score (for each agent)\n",
    "        states = next_states                               # roll over states to next time step\n",
    "        if np.any(dones):                                  # exit loop if episode finished\n",
    "            break\n",
    "    print('Total score (averaged over agents) this episode: {}'.format(np.mean(scores)))"
   ]
  },
  {
   "cell_type": "markdown",
   "metadata": {},
   "source": [
    "# 4. Solve the Tennis Task using DDPG Algorithm for multiple agents\n",
    "\n",
    "The DDPG Algorithm is an actor-critic, model-free, off-policy algorithm based on the deterministic policy gradient that can operate over continuous action spaces proposed in the paper Lillicrap et al, 2015. \n",
    "\n",
    "The main highlights of the algorithm are as follows:\n",
    "- It uses two neural networks -- an actor that learns a policy function from the state and a critic that learns a value function from state-action pairs. This is implemented in Section 4.2.\n",
    "- The algorithm uses experience replay to store experiences of the agent interacting with the environment and subsequently sampling mini-batches of uncorrelated experiences for training. This is implemented in Section 4.3\n",
    "\n",
    "The agent is implemented in Section 4.4 and the code for training the agent is in Section 4.5. Some important implementational details are as follows:\n",
    "- To boost exploration, Ornstein-Uhlenbeck Process is used to add noise to the action output. The goal is to generate temporally correlated exploration for exploration efficiency in physical control problems with inertia.\n",
    "- To stablize the training, soft update is used to update model weights of the target actor-critic network from the local actor-critic network.\n",
    "\n",
    "To adapt the DDPG algorithm for this collaborative task please note the following: \n",
    "- each of the two agents uses the same actor network and receives its own local observation\n",
    "- the experience of each agent is added to a shared replay buffer from which mini-batches of experiences are sampled for training\n",
    "- the reward for both the agents is the maximum of the rewards collected by each of the agents, which signifies the maximum time the ball was in the air. \n",
    "\n",
    "It is for these reasons that the code can easily be adapted to simultaneously train both agents through self-play. "
   ]
  },
  {
   "cell_type": "markdown",
   "metadata": {},
   "source": [
    "### 4.1 Set the hyper-parameters"
   ]
  },
  {
   "cell_type": "code",
   "execution_count": 22,
   "metadata": {},
   "outputs": [],
   "source": [
    "SCORE_SOLVED = 0.5    # Moving average score when the environment is considered solved\n",
    "\"\"\"\n",
    "Hyper-parameters for Replay memory and generation of mini-batches of experiences\n",
    "\"\"\"\n",
    "BUFFER_SIZE = int(1e6) # replay buffer size\n",
    "BATCH_SIZE = 256       # minibatch size\n",
    "\"\"\"\n",
    "Hyper-parameters for DDPG Training\n",
    "\"\"\"\n",
    "N_EPISODES = 2000      # maximum number of training episodes\n",
    "N_MAX_TIMESTEPS = 1000 # maximum number of timesteps per episode\n",
    "N_STATE = state_size   # state size for DDPG Agent\n",
    "N_ACTION = action_size # action size for DDPG Agent\n",
    "SEED = 1               # random seed\n",
    "GAMMA = 0.99           # discount factor\n",
    "TAU = 1e-3             # for soft update of target parameters\n",
    "LEARN_INTERVAL = 10    # learning timestep interval\n",
    "LEARN_NUM = 10         # number of learning passes\n",
    "GRAD_CLIPPING = 1.0    # gradient clipping \n",
    "# Ornstein-Uhlenbeck noise parameters\n",
    "OU_MEAN = 0.0\n",
    "OU_SIGMA = 0.2\n",
    "OU_THETA = 0.15\n",
    "# Epsilon decay parameters\n",
    "EPSILON = 1.0         \n",
    "EPSILON_DECAY = 1e-5\n",
    "\"\"\"\n",
    "Hyper-parameters for Actor and Critic\n",
    "\"\"\"\n",
    "LR_ACTOR = 1e-3        # learning rate of the actor\n",
    "LR_CRITIC = 1e-3       # learning rate of the critic\n",
    "ACTOR_NN = [N_STATE, 400, 200, N_ACTION]  # hidden layer sizes of the actor network\n",
    "CRITIC_NN = [N_STATE, 400, 200, N_ACTION] # hidden layer sizes of the critic network\n",
    "WEIGHT_INIT = 5e-3     # initialize weights \n",
    "ACTOR_MODEL_PATH = 'DDPG_Tennis_Actor.pth'\n",
    "CRITIC_MODEL_PATH = 'DDPG_Tennis_Critic.pth'\n",
    "# Select GPU for training if available\n",
    "device = torch.device(\"cuda:0\" if torch.cuda.is_available() else \"cpu\")"
   ]
  },
  {
   "cell_type": "markdown",
   "metadata": {},
   "source": [
    "### 4.2 Define the Actor and Critic Network Architecture\n",
    "- The Actor Network learns the policy function and maps states to actions. It consists of three fully connected layers with batch normalization in the second layer. It uses ReLU activation function for the first two layers and uses tanh in the last layer to ensure that the continuous action values range between [-1, 1].\n",
    "- The Critic Network learns the value function and maps (state,action) pairs to Q-values. It also consists of three fully connected layers with batch normalization applied at the first layer. It uses ReLU activation function in all the layers except the last one. The last layer has no activation function so that we get the actual Q-values."
   ]
  },
  {
   "cell_type": "code",
   "execution_count": 23,
   "metadata": {},
   "outputs": [],
   "source": [
    "\"\"\"\n",
    "=========================================================================\n",
    "                    Actor Model - Learns Policy Function\n",
    "=========================================================================\n",
    "\n",
    "Parameters:\n",
    "-----------\n",
    "NN (list) : Number of nodes in neural network layers       \n",
    "\"\"\"\n",
    "class Actor(nn.Module):\n",
    "    def __init__(self, NN=ACTOR_NN):\n",
    "        \"\"\"\n",
    "        Initialize parameters and build the actor model.\n",
    "        \"\"\"\n",
    "        super(Actor, self).__init__()\n",
    "        self.seed = torch.manual_seed(SEED)\n",
    "        self.H1 = nn.Linear(NN[0], NN[1])\n",
    "        self.H1.weight.data.uniform_(*self.initialize(self.H1))\n",
    "        self.H2 = nn.Linear(NN[1], NN[2])\n",
    "        self.H2.weight.data.uniform_(*self.initialize(self.H2))\n",
    "        self.BN = nn.BatchNorm1d(NN[2])\n",
    "        self.O =  nn.Linear(NN[2], NN[3])\n",
    "        self.O.weight.data.uniform_(-1*WEIGHT_INIT, WEIGHT_INIT)\n",
    "        \n",
    "    def initialize(self, layer):\n",
    "        l = 1. / np.sqrt(layer.weight.data.size()[0])\n",
    "        return(-l, l)\n",
    "        \n",
    "    def forward(self, state):\n",
    "        \"\"\"\n",
    "        Build an actor(policy) network that maps states to actions\n",
    "        tanh activation ensures that the action values range from [-1, 1]\n",
    "        \"\"\"\n",
    "        x = F.relu(self.H1(state))\n",
    "        x = F.relu(self.BN(self.H2(x)))\n",
    "        return torch.tanh(self.O(x))\n",
    "\"\"\"\n",
    "=========================================================================\n",
    "                Critic Model - Learns Value Function\n",
    "=========================================================================\n",
    "Parameters:\n",
    "-----------\n",
    "NN (list) : Number of nodes in neural network layers\n",
    "\"\"\"  \n",
    "class Critic(nn.Module):\n",
    "    def __init__(self, NN=CRITIC_NN):\n",
    "        \"\"\"\n",
    "        Initialize parameters and build the critic model.\n",
    "        \"\"\"\n",
    "        super(Critic, self).__init__()\n",
    "        self.seed = torch.manual_seed(SEED)\n",
    "        self.H1 = nn.Linear(NN[0], NN[1])\n",
    "        self.H1.weight.data.uniform_(*self.initialize(self.H1))\n",
    "        self.BN = nn.BatchNorm1d(NN[1])\n",
    "        self.H2 = nn.Linear(NN[1]+NN[3], NN[2])\n",
    "        self.H2.weight.data.uniform_(*self.initialize(self.H2))\n",
    "        self.O = nn.Linear(NN[2], 1)\n",
    "        self.O.weight.data.uniform_(-1*WEIGHT_INIT, WEIGHT_INIT)\n",
    "        \n",
    "    def initialize(self, layer):\n",
    "        l = 1. / np.sqrt(layer.weight.data.size()[0])\n",
    "        return(-l, l)\n",
    "        \n",
    "    def forward(self, state, action):\n",
    "        \"\"\"\n",
    "        Build the critic (value) network to map (state,action) pairs to Q-values\n",
    "        \"\"\"\n",
    "        x = F.relu(self.BN(self.H1(state)))\n",
    "        x = torch.cat((x, action), dim=1)\n",
    "        x = F.relu(self.H2(x))\n",
    "        return self.O(x)"
   ]
  },
  {
   "cell_type": "markdown",
   "metadata": {},
   "source": [
    "### 4.3 Define the Replay Memory\n",
    "- For storing experience tuples\n",
    "- For generating mini-batches of experiences for training"
   ]
  },
  {
   "cell_type": "code",
   "execution_count": 24,
   "metadata": {},
   "outputs": [],
   "source": [
    "\"\"\"\n",
    "=========================================================================\n",
    "            Replay Memory to store and sample experiences\n",
    "=========================================================================\n",
    "\"\"\"  \n",
    "class ReplayBuffer:\n",
    "    def __init__(self):\n",
    "        \"\"\"Initialize a ReplayBuffer object.\"\"\"\n",
    "        self.memory = deque(maxlen=BUFFER_SIZE) \n",
    "        self.experience = namedtuple(\"Experience\", field_names = [\"state\", \"action\", \"reward\", \"next_state\", \"done\"])\n",
    "        self.seed = random.seed(SEED)\n",
    "        \n",
    "    def store(self, state, action, reward, next_state, done):\n",
    "        \"\"\"Store new experience to replay memory.\"\"\"\n",
    "        e = self.experience(state, action, reward, next_state, done)\n",
    "        self.memory.append(e)\n",
    "        \n",
    "    def sample(self):\n",
    "        \"\"\"Randomly sample a batch of experiences from memory for training\"\"\"\n",
    "        experiences =  random.sample(self.memory, k=BATCH_SIZE)\n",
    "        S = torch.from_numpy(np.vstack([e.state for e in experiences if e is not None])).float().to(device)\n",
    "        A = torch.from_numpy(np.vstack([e.action for e in experiences if e is not None])).float().to(device)\n",
    "        R = torch.from_numpy(np.vstack([e.reward for e in experiences if e is not None])).float().to(device)\n",
    "        NS = torch.from_numpy(np.vstack([e.next_state for e in experiences if e is not None])).float().to(device)\n",
    "        T = torch.from_numpy(np.vstack([e.done for e in experiences if e is not None]).astype(np.uint8)).float().to(device)\n",
    "        return (S, A, R, NS, T)\n",
    "    \n",
    "    def __len__(self):\n",
    "        \"\"\"\"Return the current size of internal memory\"\"\"\n",
    "        return len(self.memory)"
   ]
  },
  {
   "cell_type": "markdown",
   "metadata": {},
   "source": [
    "### 4.4 Define and Instantiate the DDPG Agent"
   ]
  },
  {
   "cell_type": "code",
   "execution_count": 25,
   "metadata": {},
   "outputs": [],
   "source": [
    "\"\"\" \n",
    "=========================================================================\n",
    "            Ornsten-Uhlenbeck process to add exploration noise\n",
    "=========================================================================\n",
    "\"\"\"                  \n",
    "class ExplorationNoise:\n",
    "    def __init__(self):\n",
    "        \"\"\"Initialize noise parameters\"\"\"\n",
    "        self.mu = OU_MEAN * np.ones(N_ACTION)\n",
    "        self.theta = OU_THETA\n",
    "        self.sigma = OU_SIGMA\n",
    "        self.seed = random.seed(SEED)\n",
    "        self.reset()\n",
    "        \n",
    "    def reset(self):\n",
    "        \"\"\"Reset the internal state to mean.\"\"\"\n",
    "        self.state = copy.copy(self.mu)\n",
    "        \n",
    "    def sample(self):\n",
    "        \"\"\"Update internal state and return it as a noise sample\"\"\"\n",
    "        noise = self.theta * (self.mu - self.state) + self.sigma * np.array([random.random() for i in range(len(self.state))])\n",
    "        self.state = self.theta + noise\n",
    "        return self.state\n",
    "\"\"\"\n",
    "=========================================================================\n",
    "    DDPG Agent that interacts with and learns from the environment\n",
    "=========================================================================\n",
    "\"\"\"  \n",
    "class DDPGAgent():   \n",
    "    def __init__(self):\n",
    "        \"\"\"Initialize a DDPG Agent object.\"\"\"\n",
    "        self.seed = random.seed(SEED)\n",
    "        self.epsilon = EPSILON\n",
    "        \n",
    "        # Initialize the local and target Actor network\n",
    "        self.actor_local = Actor().to(device)\n",
    "        self.actor_target = Actor().to(device)\n",
    "        self.actor_optimizer = optim.Adam(self.actor_local.parameters(), lr=LR_ACTOR)\n",
    "        \n",
    "        # Initialize the local and target Critic network\n",
    "        self.critic_local = Critic().to(device)\n",
    "        self.critic_target = Critic().to(device)\n",
    "        self.critic_optimizer = optim.Adam(self.critic_local.parameters(), lr=LR_CRITIC)\n",
    "        \n",
    "        # Initialize the Replay memory\n",
    "        self.memory = ReplayBuffer()\n",
    "        \n",
    "        # Initialize the Ornsten-Uhlenbeck process to add exploration noise\n",
    "        self.OU_noise = ExplorationNoise()\n",
    "        \n",
    "    def reset(self):\n",
    "        self.OU_noise.reset()\n",
    "        \n",
    "    def step(self, S, A, R, NS, T, timestep):\n",
    "        \"\"\" Store experience in replay memory, and randomly sample experiences from buffer for training \"\"\"\n",
    "        self.memory.store(S, A, R, NS, T)\n",
    "        \"\"\" Learn when enough samples are available in memory \"\"\"\n",
    "        if len(self.memory) > BATCH_SIZE and timestep % LEARN_INTERVAL == 0:\n",
    "            for i in range(LEARN_NUM):\n",
    "                self.learn(self.memory.sample())\n",
    "        \"\"\" epsilon decay \"\"\"\n",
    "        if EPSILON_DECAY > 0:\n",
    "            self.epsilon -= EPSILON_DECAY\n",
    "                \n",
    "    def act(self, S, explore=True):\n",
    "        \"\"\" Returns actions for given state as per currently learnt policy \n",
    "            to which exploration noise is added \"\"\"\n",
    "        S = torch.from_numpy(S).float().to(device)\n",
    "        self.actor_local.eval()\n",
    "        with torch.no_grad():\n",
    "            action = self.actor_local(S).cpu().data.numpy()\n",
    "        self.actor_local.train()\n",
    "        if explore:\n",
    "            action += self.epsilon * self.OU_noise.sample()    \n",
    "        return np.clip(action, -1, 1)\n",
    "    \n",
    "    def update(self, local_model, target_model):\n",
    "        \"\"\"Soft update model parameters.\n",
    "        θ_target_model = TAU*θ_local_model + (1 - TAU)*θ_target_model\n",
    "        \"\"\"\n",
    "        for target_param, local_param in zip(target_model.parameters(), local_model.parameters()):\n",
    "            target_param.data.copy_(TAU*local_param.data + (1.0-TAU)*target_param.data)\n",
    "        \n",
    "    def learn(self, experiences):\n",
    "        \"\"\"Update policy and value parameters using given mini-batch of experience tuples.\n",
    "        Q_targets = r + GAMMA * critic_target(next_state, actor_target(next_state))\n",
    "        \"\"\"\n",
    "        \"\"\" \n",
    "        -----------------------------------------------------------------------------------\n",
    "                                    Unpack mini-batch of experience tuples\n",
    "                    experiences (Tuple[torch.Tensor]): tuple of (S, A, R, NS, T)\n",
    "        -----------------------------------------------------------------------------------\n",
    "        \"\"\"\n",
    "        S, A, R, NS, T = experiences\n",
    "        \"\"\" \n",
    "        -----------------------------------------------------------------------------------\n",
    "                                Train Critic by minimizing the loss\n",
    "        -----------------------------------------------------------------------------------\n",
    "        \"\"\"\n",
    "        # get predicted actions for next states and Q values from the target critic model\n",
    "        NA = self.actor_target(NS)\n",
    "        Q_targets_next = self.critic_target(NS, NA)\n",
    "        # compute Q-value targets\n",
    "        Q_targets = R + (GAMMA * Q_targets_next * (1 - T))\n",
    "        # compute and minimize the critic loss\n",
    "        Q_expected = self.critic_local(S, A)\n",
    "        critic_loss = F.mse_loss(Q_expected, Q_targets)\n",
    "        self.critic_optimizer.zero_grad()\n",
    "        critic_loss.backward()\n",
    "        # gradient clipping for critic \n",
    "        torch.nn.utils.clip_grad_norm_(self.critic_local.parameters(), GRAD_CLIPPING)\n",
    "        self.critic_optimizer.step()\n",
    "        \"\"\" \n",
    "        -----------------------------------------------------------------------------------\n",
    "                            Train Actor using the sampled policy gradient\n",
    "        -----------------------------------------------------------------------------------\n",
    "        \"\"\"\n",
    "        # compute and minimize actor loss\n",
    "        A_pred = self.actor_local(S)\n",
    "        actor_loss = -self.critic_local(S, A_pred).mean()\n",
    "        self.actor_optimizer.zero_grad()\n",
    "        actor_loss.backward()\n",
    "        self.actor_optimizer.step()\n",
    "        \"\"\" \n",
    "        -----------------------------------------------------------------------------------\n",
    "                                Update Actor-Critic Target Networks\n",
    "        -----------------------------------------------------------------------------------\n",
    "        \"\"\"\n",
    "        self.update(self.critic_local, self.critic_target)\n",
    "        self.update(self.actor_local, self.actor_target)"
   ]
  },
  {
   "cell_type": "markdown",
   "metadata": {},
   "source": [
    "### 4.5 Train the DDPG algorithm"
   ]
  },
  {
   "cell_type": "code",
   "execution_count": 26,
   "metadata": {
    "scrolled": false
   },
   "outputs": [
    {
     "name": "stdout",
     "output_type": "stream",
     "text": [
      "Episode 50 \tMoving Avg: 0.00580\n",
      "Episode 100 \tMoving Avg: 0.00870\n",
      "Episode 150 \tMoving Avg: 0.00670\n",
      "Episode 200 \tMoving Avg: 0.00390\n",
      "Episode 250 \tMoving Avg: 0.01070\n",
      "Episode 300 \tMoving Avg: 0.02900\n",
      "Episode 350 \tMoving Avg: 0.06690\n",
      "Episode 400 \tMoving Avg: 0.10850\n",
      "Episode 450 \tMoving Avg: 0.13000\n",
      "Episode 500 \tMoving Avg: 0.15450\n",
      "Episode 550 \tMoving Avg: 0.30350\n",
      "Episode 600 \tMoving Avg: 0.49630\n",
      "\n",
      "Environment solved in 614 episodes.\tAverage score: 0.50\n"
     ]
    }
   ],
   "source": [
    "\"\"\"\n",
    "=========================================================================\n",
    "                Train the DDPG Algorithm for multiple agents\n",
    "=========================================================================\n",
    "\"\"\"  \n",
    "def train():\n",
    "    \"\"\" \n",
    "    -----------------------------------------------------------------------------------\n",
    "    Instantiate the DDPG Agent\n",
    "    Initialize data-structures to keep track of average-episode scores and moving average\n",
    "    -----------------------------------------------------------------------------------\n",
    "    \"\"\" \n",
    "    agent = DDPGAgent() # instantiate the DDPG agent\n",
    "    max_score_episode = [] # list of mean scores from each episode\n",
    "    moving_avg_episode = [] # list of moving averages\n",
    "    best_score = -np.inf\n",
    "    scores_last100 = deque(maxlen=100) # mean score from last 100 episodes based on Udacity Project requirements\n",
    "    \"\"\" \n",
    "    -----------------------------------------------------------------------------------\n",
    "    Start learning\n",
    "    -----------------------------------------------------------------------------------\n",
    "    \"\"\" \n",
    "    for i_episode in range(1, N_EPISODES + 1):\n",
    "        \"\"\" Reset environment and agent at the beginning of each episode \"\"\"\n",
    "        env_info = env.reset(train_mode=True)[brain_name] # reset environment, with training mode ON\n",
    "        scores = np.zeros(num_agents) # initialize score for each agent\n",
    "        states = env_info.vector_observations # get current state \n",
    "        agent.reset() # reset agent\n",
    "        \"\"\" Start episode \"\"\"\n",
    "        for t in range(N_MAX_TIMESTEPS):\n",
    "            \"\"\" Agent interacts with environment \"\"\"\n",
    "            actions = agent.act(states, explore=True) # determine optimal actions\n",
    "            env_info = env.step(actions)[brain_name]  # apply actions to environment and get environment info\n",
    "            next_states = env_info.vector_observations # extract next state information for each agent\n",
    "            rewards = env_info.rewards # extract rewards received for the action taken by each agent\n",
    "            dones = env_info.local_done # Determine terminal state or not\n",
    "            \"\"\" Agent learns from uncorrelated experiences \"\"\"\n",
    "            for state, action, reward, next_state, done in zip(states, actions, rewards, next_states, dones):\n",
    "                agent.step(state, action, reward, next_state, done, t)\n",
    "            states = next_states\n",
    "            scores += rewards\n",
    "            if np.any(dones):\n",
    "                break\n",
    "        \"\"\" \n",
    "        -----------------------------------------------------------------------------------\n",
    "        Record score stats and print information\n",
    "        -----------------------------------------------------------------------------------\n",
    "        \"\"\" \n",
    "        # save max reward collected by the two agents for each episode, which signifies the\n",
    "        # maximum duration for which the ball was in the air. \n",
    "        max_score_episode.append(np.max(scores))  \n",
    "        scores_last100.append(max_score_episode[-1]) # save mean score for last 100 episodes\n",
    "        moving_avg_episode.append(np.mean(scores_last100)) # save moving average\n",
    "        \n",
    "        if i_episode % 50 == 0:\n",
    "            print(\"\\rEpisode {} \\tMoving Avg: {:.5f}\"\\\n",
    "                  .format(i_episode, moving_avg_episode[-1]))\n",
    "        \"\"\" \n",
    "        -----------------------------------------------------------------------------------\n",
    "        Save model weights when the task is solved (moving average score >= 0.5)\n",
    "        -----------------------------------------------------------------------------------\n",
    "        \"\"\" \n",
    "        if moving_avg_episode[-1] >= SCORE_SOLVED:\n",
    "            print(\"\\nEnvironment solved in {:d} episodes.\\tAverage score: {:.2f}\"\\\n",
    "                 .format(i_episode, moving_avg_episode[-1]))\n",
    "            torch.save(agent.actor_local.state_dict(), ACTOR_MODEL_PATH)\n",
    "            torch.save(agent.critic_local.state_dict(), CRITIC_MODEL_PATH)\n",
    "            break        \n",
    "    return max_score_episode, moving_avg_episode\n",
    "\"\"\" \n",
    "-----------------------------------------------------------------------------------\n",
    "Train and save final model weights\n",
    "-----------------------------------------------------------------------------------\n",
    "\"\"\" \n",
    "scores, avgs = train()"
   ]
  },
  {
   "cell_type": "markdown",
   "metadata": {},
   "source": [
    "## 5. Results and Plot of Rewards\n",
    "As indicated above the enviroment was solved in 614 episodes."
   ]
  },
  {
   "cell_type": "code",
   "execution_count": 27,
   "metadata": {},
   "outputs": [
    {
     "data": {
      "image/png": "[encoded data removed]",
      "text/plain": [
       "<matplotlib.figure.Figure at 0x7f011b37c1d0>"
      ]
     },
     "metadata": {
      "needs_background": "light"
     },
     "output_type": "display_data"
    }
   ],
   "source": [
    "fig = plt.figure()\n",
    "plt.plot(np.arange(len(scores)), scores, label='Actual Score ')\n",
    "plt.plot(np.arange(len(scores)), avgs, c='r', label='Moving Average')\n",
    "plt.ylabel('Score')\n",
    "plt.xlabel('Episode Number')\n",
    "plt.title('Multi-Agent Collaborative Tennis Task using DDPG')\n",
    "plt.legend()\n",
    "plt.show()"
   ]
  },
  {
   "cell_type": "markdown",
   "metadata": {},
   "source": [
    "## 6. Ideas for Future Work\n",
    "- It seems from the result that at first learning performance is slow and after collecting enough episodes, the agent learns to solve the task quickly at the end. I would extend the code to add a separate exploration stage at first, where the agent only explores and collects enough experiences before the agent starts training. Using Prioritized Experience Replay can additionally improve performance.\n",
    "\n",
    "- Because of the multi-agent nature of the task, the training is not always stable. I would implement the strategy in the seminal paper Multi-Agent Actor-Critic for Mixed Cooperative-Competitive Environments. "
   ]
  },
  {
   "cell_type": "code",
   "execution_count": null,
   "metadata": {},
   "outputs": [],
   "source": []
  }
 ],
 "metadata": {
  "kernelspec": {
   "display_name": "Python 3",
   "language": "python",
   "name": "python3"
  },
  "language_info": {
   "codemirror_mode": {
    "name": "ipython",
    "version": 3
   },
   "file_extension": ".py",
   "mimetype": "text/x-python",
   "name": "python",
   "nbconvert_exporter": "python",
   "pygments_lexer": "ipython3",
   "version": "3.6.3"
  }
 },
 "nbformat": 4,
 "nbformat_minor": 2
}
